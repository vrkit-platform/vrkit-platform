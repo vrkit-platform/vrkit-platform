{
 "cells": [
  {
   "cell_type": "code",
   "execution_count": 1,
   "id": "b9145314aca74022",
   "metadata": {
    "ExecuteTime": {
     "end_time": "2024-01-03T00:58:32.994303Z",
     "start_time": "2024-01-03T00:58:31.754534Z"
    },
    "collapsed": false
   },
   "outputs": [],
   "source": [
    "from IPython.display import HTML, display\n",
    "import matplotlib.pyplot as plt\n",
    "import numpy as np\n",
    "import folium\n",
    "\n",
    "from irsdk import IRDiskClient\n",
    "from irsdk.util.logging import info, debug\n",
    "\n"
   ]
  },
  {
   "cell_type": "code",
   "execution_count": 2,
   "id": "initial_id",
   "metadata": {
    "ExecuteTime": {
     "end_time": "2024-01-03T00:58:33.354786500Z",
     "start_time": "2024-01-03T00:58:33.072303700Z"
    }
   },
   "outputs": [
    {
     "name": "stdout",
     "output_type": "stream",
     "text": [
      "lap: 0, bad: False, incident count: 0\n",
      "lap: 1, bad: False, incident count: 0\n",
      "lap: 2, bad: False, incident count: 0\n",
      "lap: 3, bad: True, incident count: 5\n",
      "lap: 4, bad: False, incident count: 5\n",
      "lap: 5, bad: False, incident count: 5\n",
      "lap: 6, bad: False, incident count: 5\n",
      "lap: 7, bad: True, incident count: 6\n",
      "lap: 8, bad: False, incident count: 6\n",
      "lap: 9, bad: True, incident count: 8\n",
      "lap: 10, bad: False, incident count: 8\n",
      "lap: 11, bad: True, incident count: 10\n",
      "lap: 12, bad: False, incident count: 10\n",
      "lap: 13, bad: False, incident count: 10\n",
      "lap: 14, bad: False, incident count: 10\n",
      "lap: 15, bad: False, incident count: 10\n",
      "lap: 16, bad: False, incident count: 10\n",
      "lap: 17, bad: False, incident count: 10\n",
      "lap: 18, bad: False, incident count: 10\n"
     ]
    }
   ],
   "source": [
    "from functools import reduce\n",
    "\n",
    "ibt_file = \"Y:\\\\data\\\\local-share\\\\iracing\\\\telemetry\\\\ligierjsp320_twinring fullrc 2023-12-24 22-43-26.ibt\"\n",
    "#ibt_file = \"Y:/code/sim-racing/irsdk-interop/data/ibt/race-recordings/gt4-watkins-glen/0_ir_session_track_watkinsglen 2021 fullcourse 2025-01-06 10-32-30.ibt\"\n",
    "ir = IRDiskClient()\n",
    "ir.open(ibt_file)\n",
    "\n",
    "data = ir.get_data_frame(\"SessionTime\", \"Lap\", 'PlayerCarMyIncidentCount')\n",
    "\n",
    "# data.index(ir.get_all(\"Lap\"))\n",
    "lap_incident_data = data.groupby(\"Lap\").max(\"PlayerCarMyIncidentCount\")\n",
    "\n",
    "bad_laps = dict[int, bool]()\n",
    "previous_incident_count = 0\n",
    "lap_incident_data_tuples = lap_incident_data.itertuples()\n",
    "for incident_data_idx in range(len(lap_incident_data)):\n",
    "\tincident_data = next(lap_incident_data_tuples) #lap_incident_data[incident_data_idx]\n",
    "\tlap = incident_data[0]\n",
    "\tincident_count = incident_data[2] \n",
    "\tif previous_incident_count != incident_count:\n",
    "\t\tbad_laps[lap] = True\n",
    "\t\tprevious_incident_count = incident_count\n",
    "\telse:\n",
    "\t\tbad_laps[lap] = False\n",
    "\t\t\t\n",
    "\t# print(incident_data)\n",
    "\tprint(f\"lap: {lap}, bad: {bad_laps[lap]}, incident count: {incident_count}\")"
   ]
  },
  {
   "cell_type": "code",
   "execution_count": 3,
   "id": "2986e2ad41d065f2",
   "metadata": {
    "ExecuteTime": {
     "end_time": "2024-01-03T00:58:33.354786500Z",
     "start_time": "2024-01-03T00:58:33.348624500Z"
    },
    "collapsed": false
   },
   "outputs": [],
   "source": [
    "# def lap_group(*args):\n",
    "# \treturn args[0]\n",
    "# \n",
    "# data.groupby(\"Lap\").apply(lap_group)\n",
    "\n"
   ]
  }
 ],
 "metadata": {
  "kernelspec": {
   "display_name": "Python 3 (ipykernel)",
   "language": "python",
   "name": "python3"
  },
  "language_info": {
   "codemirror_mode": {
    "name": "ipython",
    "version": 3
   },
   "file_extension": ".py",
   "mimetype": "text/x-python",
   "name": "python",
   "nbconvert_exporter": "python",
   "pygments_lexer": "ipython3",
   "version": "3.12.1"
  }
 },
 "nbformat": 4,
 "nbformat_minor": 5
}
